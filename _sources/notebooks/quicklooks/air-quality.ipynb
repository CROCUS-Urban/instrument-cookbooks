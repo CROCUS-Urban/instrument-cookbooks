{
 "cells": [
  {
   "cell_type": "markdown",
   "id": "b76a5996-6d63-42bb-9eff-9f0133f63db5",
   "metadata": {},
   "source": [
    "# Air Quality Quicklooks\n",
    "\n",
    "## Site Overview\n",
    "\n",
    "The sites:\n",
    "\n",
    "- W099 - Northwestern University (NU)\n",
    "- W08D - Northeastern Illinois University (NEIU)\n",
    "- W08E - Chicago State University (CSU)\n",
    "\n",
    "![current CROCUS sites](../images/current-sites.png)"
   ]
  },
  {
   "cell_type": "markdown",
   "id": "0a0cfb98-6b3b-4c63-b32d-f9ab869a3ebe",
   "metadata": {},
   "source": [
    "## Particulate Matter (PM2.5)\n",
    "From the Environmental Protection Agency information page::\n",
    "\n",
    "```\n",
    "PM stands for particulate matter (also called particle pollution): the term for a mixture of solid particles and liquid droplets found in the air. Some particles, such as dust, dirt, soot, or smoke, are large or dark enough to be seen with the naked eye. Others are so small they can only be detected using an electron microscope.\n",
    "\n",
    "PM2.5 : fine inhalable particles, with diameters that are generally 2.5 micrometers and smaller.\n",
    "How small is 2.5 micrometers? Think about a single hair from your head. The average human hair is about 70 micrometers in diameter – making it 30 times larger than the largest fine particle.\n",
    "```\n",
    "\n",
    "Source and more information on PM/PM2.5 https://www.epa.gov/pm-pollution/particulate-matter-pm-basics#PM"
   ]
  },
  {
   "cell_type": "code",
   "execution_count": 7,
   "id": "2a241e95-cac4-4375-b43c-f6e8267f6ca3",
   "metadata": {
    "editable": true,
    "slideshow": {
     "slide_type": ""
    },
    "tags": [
     "hide-input"
    ]
   },
   "outputs": [
    {
     "data": {
      "text/html": [
       "\n",
       "        <iframe\n",
       "            width=\"800\"\n",
       "            height=\"400\"\n",
       "            src=\"https://portal.sagecontinuum.org/query-browser?apps=registry.sagecontinuum.org%2Fjrobrien%2Fwaggle-aqt%3A0.23.5.04&nodes=W08D%7CW08E%7CW099&names=aqt.particle.pm2.5&start=-2d\"\n",
       "            frameborder=\"0\"\n",
       "            allowfullscreen\n",
       "            \n",
       "        ></iframe>\n",
       "        "
      ],
      "text/plain": [
       "<IPython.lib.display.IFrame at 0x1184f5010>"
      ]
     },
     "execution_count": 7,
     "metadata": {},
     "output_type": "execute_result"
    }
   ],
   "source": [
    "from IPython.display import IFrame\n",
    "IFrame('https://portal.sagecontinuum.org/query-browser?apps=registry.sagecontinuum.org%2Fjrobrien%2Fwaggle-aqt%3A0.23.5.04&nodes=W08D%7CW08E%7CW099&names=aqt.particle.pm2.5&start=-2d', width=800, height=400)"
   ]
  },
  {
   "cell_type": "code",
   "execution_count": null,
   "id": "40ade33e-2419-4746-9d61-ae451caa5abb",
   "metadata": {},
   "outputs": [],
   "source": []
  }
 ],
 "metadata": {
  "kernelspec": {
   "display_name": "Python 3 (ipykernel)",
   "language": "python",
   "name": "python3"
  },
  "language_info": {
   "codemirror_mode": {
    "name": "ipython",
    "version": 3
   },
   "file_extension": ".py",
   "mimetype": "text/x-python",
   "name": "python",
   "nbconvert_exporter": "python",
   "pygments_lexer": "ipython3",
   "version": "3.11.4"
  }
 },
 "nbformat": 4,
 "nbformat_minor": 5
}
